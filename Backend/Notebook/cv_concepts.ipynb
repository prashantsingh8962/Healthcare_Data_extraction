{
 "cells": [
  {
   "cell_type": "code",
   "execution_count": 81,
   "id": "e3c4aaff-a0f1-46a1-8f32-16bffb2a9389",
   "metadata": {},
   "outputs": [],
   "source": [
    "import cv2\n",
    "from PIL import Image"
   ]
  },
  {
   "cell_type": "code",
   "execution_count": 82,
   "id": "41374f06-d9dd-4abf-ac11-fb8115be14e2",
   "metadata": {},
   "outputs": [],
   "source": [
    "#if value > 80:    (Simple thresholding)\n",
    "#   value = 255\n",
    "# else:\n",
    "#   value =0 "
   ]
  },
  {
   "cell_type": "code",
   "execution_count": 83,
   "id": "a4eba52b-837a-45ed-aa38-333c38b8dc5b",
   "metadata": {},
   "outputs": [
    {
     "data": {
      "text/plain": [
       "array([[206, 206, 206, ..., 185, 185, 185],\n",
       "       [206, 206, 206, ..., 185, 185, 185],\n",
       "       [206, 206, 206, ..., 186, 185, 185],\n",
       "       ...,\n",
       "       [207, 207, 207, ..., 191, 190, 190],\n",
       "       [207, 207, 207, ..., 191, 190, 190],\n",
       "       [207, 207, 207, ..., 191, 191, 190]], dtype=uint8)"
      ]
     },
     "execution_count": 83,
     "metadata": {},
     "output_type": "execute_result"
    }
   ],
   "source": [
    "# clear img  \n",
    "img = cv2.imread(\"clear_image.jpg\", flags=cv2.IMREAD_GRAYSCALE)\n",
    "img"
   ]
  },
  {
   "cell_type": "code",
   "execution_count": 84,
   "id": "4f155a19-5b42-42b4-8ed4-cd57caa4689b",
   "metadata": {},
   "outputs": [],
   "source": [
    "Image.fromarray(img).show()"
   ]
  },
  {
   "cell_type": "code",
   "execution_count": 85,
   "id": "952c2f5d-32c0-466d-bf2e-308579808100",
   "metadata": {},
   "outputs": [],
   "source": [
    "_, new_img = cv2.threshold(img,160,255,cv2.THRESH_BINARY)"
   ]
  },
  {
   "cell_type": "code",
   "execution_count": 86,
   "id": "74497e23-2634-47f1-939a-1819e4c17f18",
   "metadata": {},
   "outputs": [],
   "source": [
    "Image.fromarray(new_img).show()"
   ]
  },
  {
   "cell_type": "code",
   "execution_count": 132,
   "id": "3ae7832e-9fc3-42b1-9f51-ca2d63153fe0",
   "metadata": {},
   "outputs": [
    {
     "data": {
      "text/plain": [
       "array([[206, 206, 206, ..., 187, 186, 184],\n",
       "       [206, 206, 206, ..., 186, 185, 185],\n",
       "       [206, 206, 206, ..., 186, 185, 185],\n",
       "       ...,\n",
       "       [162, 157, 152, ..., 184, 184, 184],\n",
       "       [160, 156, 152, ..., 184, 184, 184],\n",
       "       [156, 158, 158, ..., 184, 184, 184]], dtype=uint8)"
      ]
     },
     "execution_count": 132,
     "metadata": {},
     "output_type": "execute_result"
    }
   ],
   "source": [
    "#dark img  \n",
    "img1 = cv2.imread(\"dark_image.jpg\", flags=cv2.IMREAD_GRAYSCALE)\n",
    "img1"
   ]
  },
  {
   "cell_type": "code",
   "execution_count": 133,
   "id": "209878bf-8211-4397-936f-5faa1dc56c74",
   "metadata": {},
   "outputs": [],
   "source": [
    "_, new_img1 = cv2.threshold(img1,150,255,cv2.THRESH_BINARY)\n",
    "Image.fromarray(new_img1).show()"
   ]
  },
  {
   "cell_type": "markdown",
   "id": "53d8141b-5076-4f25-9ee7-22f2c91e0d95",
   "metadata": {},
   "source": [
    "**void cv::adaptiveThreshold\t(\tInputArray \tsrc,\n",
    "OutputArray \tdst,\n",
    "double \tmaxValue,\n",
    "int \tadaptiveMethod,\n",
    "int \tthresholdType,\n",
    "int \tblockSize,\n",
    "double \tC \n",
    ")**"
   ]
  },
  {
   "cell_type": "code",
   "execution_count": 136,
   "id": "e6c576af-5129-45f4-9992-5e001174ec40",
   "metadata": {},
   "outputs": [],
   "source": [
    "#adaptive thresholding\n",
    "new_img1 = cv2.adaptiveThreshold(\n",
    "    img1, 255, \n",
    "    cv2.ADAPTIVE_THRESH_GAUSSIAN_C, \n",
    "    cv2.THRESH_BINARY, \n",
    "    61,  # Block size\n",
    "    11   # Constant subtracted from the mean\n",
    ")\n",
    "Image.fromarray(new_img1).show()\n"
   ]
  },
  {
   "cell_type": "code",
   "execution_count": null,
   "id": "10536dda-3dcb-4195-82c3-21dcc1d05edf",
   "metadata": {},
   "outputs": [],
   "source": []
  }
 ],
 "metadata": {
  "kernelspec": {
   "display_name": "Python 3 (ipykernel)",
   "language": "python",
   "name": "python3"
  },
  "language_info": {
   "codemirror_mode": {
    "name": "ipython",
    "version": 3
   },
   "file_extension": ".py",
   "mimetype": "text/x-python",
   "name": "python",
   "nbconvert_exporter": "python",
   "pygments_lexer": "ipython3",
   "version": "3.12.4"
  }
 },
 "nbformat": 4,
 "nbformat_minor": 5
}
