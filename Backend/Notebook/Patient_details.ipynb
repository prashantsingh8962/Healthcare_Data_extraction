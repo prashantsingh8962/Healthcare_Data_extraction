{
 "cells": [
  {
   "cell_type": "code",
   "execution_count": 2,
   "id": "28f40639-4194-4684-bc74-5b837168907a",
   "metadata": {},
   "outputs": [],
   "source": [
    "#patient_details_1\n",
    "#this is function we using pdf into an image file\n",
    "from pdf2image import convert_from_path\n",
    "pages = convert_from_path(\"docs\\\\patient_details\\\\pd_1.pdf\", poppler_path=\"C:\\\\Users\\\\Prashant Singh\\\\OneDrive\\\\Documents\\\\Codebasics\\\\Python\\\\source-code\\\\4_project_medical_data_extraction\\\\poppler-24.07.0\\\\Library\\\\bin\")"
   ]
  },
  {
   "cell_type": "code",
   "execution_count": 3,
   "id": "2636839f-7879-44f3-b3ea-c9342a8f245c",
   "metadata": {},
   "outputs": [
    {
     "data": {
      "text/plain": [
       "[<PIL.PpmImagePlugin.PpmImageFile image mode=RGB size=1867x2000>,\n",
       " <PIL.PpmImagePlugin.PpmImageFile image mode=RGB size=2000x1398>]"
      ]
     },
     "execution_count": 3,
     "metadata": {},
     "output_type": "execute_result"
    }
   ],
   "source": [
    "pages"
   ]
  },
  {
   "cell_type": "code",
   "execution_count": 4,
   "id": "37767a96-693f-42b4-aa92-db5ff6dc8f94",
   "metadata": {},
   "outputs": [],
   "source": [
    "import pytesseract"
   ]
  },
  {
   "cell_type": "code",
   "execution_count": 5,
   "id": "bb2cdeb4-8f81-493f-93c5-741e4f20db84",
   "metadata": {},
   "outputs": [
    {
     "name": "stdout",
     "output_type": "stream",
     "text": [
      "47/12/2020\n",
      "\n",
      "Patient Medical Record\n",
      "\n",
      "Patient Information Birth Date\n",
      "Kathy Crawford May 6 1972\n",
      "(737) 988-0851 Weight\n",
      "9264 Ash Dr 95\n",
      "New York City, 10005 .\n",
      "United States Height:\n",
      "190\n",
      "In Case of Emergency\n",
      "m _ a _\n",
      "Simeone Crawford 9266 Ash Dr\n",
      "New York City, New York, 10005\n",
      "Home phone United States\n",
      "(990) 375-4621\n",
      "Work phone\n",
      "Genera! Medical History\n",
      "\n",
      "Chicken Pox (Varicella):\n",
      "\n",
      "IMMUNE\n",
      "\n",
      "Have you had the Hepatitis B vaccination?\n",
      "\n",
      "No\n",
      "\n",
      "List any Medical Problems (asthma, seizures, headaches):\n",
      "\n",
      "Migraine\n",
      "\n"
     ]
    }
   ],
   "source": [
    "pytesseract.pytesseract.tesseract_cmd = \"C:\\\\Users\\\\Prashant Singh\\\\OneDrive\\\\Documents\\\\Codebasics\\\\Python\\\\source-code\\\\4_project_medical_data_extraction\\\\Tesseract\\\\tesseract.exe\"\n",
    "text = pytesseract.image_to_string(pages[0], lang=\"eng\")\n",
    "print(text)"
   ]
  },
  {
   "cell_type": "code",
   "execution_count": 7,
   "id": "711d42f0-05a8-493b-926a-344a91f5be42",
   "metadata": {},
   "outputs": [],
   "source": [
    "import cv2\n",
    "from PIL import Image\n",
    "import numpy as np"
   ]
  },
  {
   "cell_type": "code",
   "execution_count": 8,
   "id": "18e5ab9c-688d-462f-9676-370cee8570ad",
   "metadata": {},
   "outputs": [],
   "source": [
    "def preprocess_image(img):\n",
    "    # Convert the PIL image to a NumPy array\n",
    "    img_array = np.array(img)\n",
    "    \n",
    "    # Convert the image from RGB to grayscale\n",
    "    gray = cv2.cvtColor(img_array, cv2.COLOR_RGB2GRAY)\n",
    "    \n",
    "    # Resize the image\n",
    "    resized = cv2.resize(gray, None, fx=1.5, fy=1.5, interpolation=cv2.INTER_LINEAR)\n",
    "    \n",
    "    # Apply adaptive thresholding\n",
    "    processed_image = cv2.adaptiveThreshold(\n",
    "        resized, 255,\n",
    "        cv2.ADAPTIVE_THRESH_GAUSSIAN_C,\n",
    "        cv2.THRESH_BINARY,\n",
    "        61,\n",
    "        11\n",
    "    )\n",
    "    \n",
    "    return processed_image"
   ]
  },
  {
   "cell_type": "code",
   "execution_count": 9,
   "id": "293cf525-ef4a-4614-8d27-aa66d77bef63",
   "metadata": {},
   "outputs": [],
   "source": [
    "img = preprocess_image(pages[0])\n",
    "Image.fromarray(img).show()"
   ]
  },
  {
   "cell_type": "code",
   "execution_count": 10,
   "id": "4a47e391-49f1-454c-95a1-58eaaefd8d68",
   "metadata": {},
   "outputs": [
    {
     "name": "stdout",
     "output_type": "stream",
     "text": [
      "17/12/2020\n",
      "\n",
      "Patient Medical Record\n",
      "\n",
      "Patient Information Birth Date\n",
      "Kathy Crawford May 6 1972\n",
      "(737) 988-0851 Weight’\n",
      "9264 Ash Dr 95\n",
      "New York City, 10005 .\n",
      "United States Height:\n",
      "190\n",
      "In Casc of Emergency\n",
      "ee ee\n",
      "Simeone Crawford 9266 Ash Dr\n",
      "New York City, New York, 10005\n",
      "Home phone United States\n",
      "(990) 375-4621\n",
      "Work phone\n",
      "\n",
      "Genera! Medical History\n",
      "\n",
      "a\n",
      "\n",
      "a\n",
      "\n",
      "Chicken Pox (Varicella): Measies:\n",
      "IMMUNE IMMUNE\n",
      "Have you had the Hepatitis B vaccination?\n",
      "No\n",
      "\n",
      "List any Medical Problems (asthma, seizures, headaches}:\n",
      "\n",
      "Migraine\n",
      "\n",
      "{ -\n",
      "aa\n",
      "\n"
     ]
    }
   ],
   "source": [
    "pytesseract.pytesseract.tesseract_cmd = \"C:\\\\Users\\\\Prashant Singh\\\\OneDrive\\\\Documents\\\\Codebasics\\\\Python\\\\source-code\\\\4_project_medical_data_extraction\\\\Tesseract\\\\tesseract.exe\"\n",
    "text = pytesseract.image_to_string(img, lang=\"eng\")\n",
    "print(text)"
   ]
  },
  {
   "cell_type": "code",
   "execution_count": 11,
   "id": "4bdc4c91-8239-4738-8a55-036df37d2811",
   "metadata": {},
   "outputs": [],
   "source": [
    "#<h2>Extract Vaccine</h2>"
   ]
  },
  {
   "cell_type": "markdown",
   "id": "d2fcbffd-1519-4cce-8593-a81910fc60a6",
   "metadata": {},
   "source": [
    "<h2>Extract Name</h2>\n"
   ]
  },
  {
   "cell_type": "code",
   "execution_count": 27,
   "id": "09f5b835-b053-4956-9c09-4597e83c5386",
   "metadata": {},
   "outputs": [
    {
     "name": "stderr",
     "output_type": "stream",
     "text": [
      "<>:3: SyntaxWarning: invalid escape sequence '\\('\n",
      "<>:3: SyntaxWarning: invalid escape sequence '\\('\n",
      "C:\\Users\\Prashant Singh\\AppData\\Local\\Temp\\ipykernel_13956\\132906240.py:3: SyntaxWarning: invalid escape sequence '\\('\n",
      "  pattern = 'Patient Information(.*?)\\(\\d{3}\\)'\n"
     ]
    },
    {
     "data": {
      "text/plain": [
       "[' Birth Date\\nKathy Crawford May 6 1972\\n']"
      ]
     },
     "execution_count": 27,
     "metadata": {},
     "output_type": "execute_result"
    }
   ],
   "source": [
    "import re\n",
    "#DOTALL means this dot matches the other line character\n",
    "pattern = 'Patient Information(.*?)\\(\\d{3}\\)'\n",
    "\n",
    "matches = re.findall(pattern, text,flags=re.DOTALL)\n",
    "matches"
   ]
  },
  {
   "cell_type": "code",
   "execution_count": 28,
   "id": "156ca7f9-daa7-4f68-b944-a73b1fc3ebde",
   "metadata": {},
   "outputs": [
    {
     "data": {
      "text/plain": [
       "'Birth Date\\nKathy Crawford May 6 1972'"
      ]
     },
     "execution_count": 28,
     "metadata": {},
     "output_type": "execute_result"
    }
   ],
   "source": [
    "matches[0].strip()"
   ]
  },
  {
   "cell_type": "code",
   "execution_count": 49,
   "id": "6c096661-6ba6-4abf-9931-360bd6c21e0b",
   "metadata": {},
   "outputs": [
    {
     "data": {
      "text/plain": [
       "'Kathy Crawford May 6 1972'"
      ]
     },
     "execution_count": 49,
     "metadata": {},
     "output_type": "execute_result"
    }
   ],
   "source": [
    "match = matches[0].replace(\"Birth Date\",\"\").strip()\n",
    "match"
   ]
  },
  {
   "cell_type": "code",
   "execution_count": 50,
   "id": "e2a4cb6f-6aeb-45be-8645-33b6daab4ff4",
   "metadata": {},
   "outputs": [
    {
     "name": "stderr",
     "output_type": "stream",
     "text": [
      "<>:1: SyntaxWarning: invalid escape sequence '\\d'\n",
      "<>:1: SyntaxWarning: invalid escape sequence '\\d'\n",
      "C:\\Users\\Prashant Singh\\AppData\\Local\\Temp\\ipykernel_13956\\3557110958.py:1: SyntaxWarning: invalid escape sequence '\\d'\n",
      "  pattern = '((Jan|Feb|Mar|Apr|May|June|July|Aug|Sep|Oct|Nov|Dec)[ \\d]+)'\n"
     ]
    },
    {
     "data": {
      "text/plain": [
       "[('May 6 1972', 'May')]"
      ]
     },
     "execution_count": 50,
     "metadata": {},
     "output_type": "execute_result"
    }
   ],
   "source": [
    "date_pattern = '((Jan|Feb|Mar|Apr|May|June|July|Aug|Sep|Oct|Nov|Dec)[ \\d]+)'\n",
    "date_matches = re.findall(date_pattern, match)\n",
    "date_matches"
   ]
  },
  {
   "cell_type": "code",
   "execution_count": 51,
   "id": "ad9d8663-147c-422c-afb0-36fa3e956538",
   "metadata": {},
   "outputs": [],
   "source": [
    "Date = date_matches[0][0]"
   ]
  },
  {
   "cell_type": "code",
   "execution_count": 52,
   "id": "555158be-6184-4639-b49d-7bcc915de0c0",
   "metadata": {},
   "outputs": [
    {
     "data": {
      "text/plain": [
       "'Kathy Crawford'"
      ]
     },
     "execution_count": 52,
     "metadata": {},
     "output_type": "execute_result"
    }
   ],
   "source": [
    "match = match.replace(Date,\"\").strip()\n",
    "match"
   ]
  },
  {
   "cell_type": "code",
   "execution_count": 91,
   "id": "0a8957e2-367e-42e8-81d2-0bd202fab6ad",
   "metadata": {},
   "outputs": [
    {
     "name": "stderr",
     "output_type": "stream",
     "text": [
      "<>:3: SyntaxWarning: invalid escape sequence '\\d'\n",
      "<>:3: SyntaxWarning: invalid escape sequence '\\d'\n",
      "C:\\Users\\Prashant Singh\\AppData\\Local\\Temp\\ipykernel_13956\\2562030838.py:3: SyntaxWarning: invalid escape sequence '\\d'\n",
      "  date_pattern = '((Jan|Feb|Mar|Apr|May|June|July|Aug|Sep|Oct|Nov|Dec)[ \\d]+)'\n"
     ]
    }
   ],
   "source": [
    "def remove_noise_from_name(self,name):\n",
    "    name = name.replace(\"Birth Date\",\"\").strip()\n",
    "    date_pattern = '((Jan|Feb|Mar|Apr|May|June|July|Aug|Sep|Oct|Nov|Dec)[ \\d]+)'\n",
    "    date_matches = re.findall(date_pattern, name)\n",
    "\n",
    "    if date_matches:\n",
    "        date = date_matches[0][0]\n",
    "        name = name.replace(date,'').strip()\n",
    "    return name"
   ]
  },
  {
   "cell_type": "code",
   "execution_count": 67,
   "id": "dd3c3ebe-efec-498c-9987-be90e90272bc",
   "metadata": {},
   "outputs": [
    {
     "data": {
      "text/plain": [
       "'Kathy Crawford'"
      ]
     },
     "execution_count": 67,
     "metadata": {},
     "output_type": "execute_result"
    }
   ],
   "source": [
    "name= ' Birth Date\\nKathy Crawford May 6 1972\\n'\n",
    "name= remove_noise_from_name(name)\n",
    "name"
   ]
  },
  {
   "cell_type": "markdown",
   "id": "a38925c8-dfaa-40e6-8510-459cab67fa44",
   "metadata": {},
   "source": [
    "<h2>Extract Phone Number</h2>"
   ]
  },
  {
   "cell_type": "code",
   "execution_count": 72,
   "id": "3c8fbf51-4b1b-4381-85ce-f50faca8e918",
   "metadata": {},
   "outputs": [
    {
     "name": "stderr",
     "output_type": "stream",
     "text": [
      "<>:1: SyntaxWarning: invalid escape sequence '\\('\n",
      "<>:1: SyntaxWarning: invalid escape sequence '\\('\n",
      "C:\\Users\\Prashant Singh\\AppData\\Local\\Temp\\ipykernel_13956\\3237999790.py:1: SyntaxWarning: invalid escape sequence '\\('\n",
      "  pattern = \"Patient Information(.*?)(\\(\\d{3}\\) \\d{3}-\\d{4})\"\n"
     ]
    },
    {
     "data": {
      "text/plain": [
       "'(737) 988-0851'"
      ]
     },
     "execution_count": 72,
     "metadata": {},
     "output_type": "execute_result"
    }
   ],
   "source": [
    "pattern = \"Patient Information(.*?)(\\(\\d{3}\\) \\d{3}-\\d{4})\"\n",
    "matches = re.findall(pattern, text,flags=re.DOTALL)\n",
    "matches[0][1].strip()"
   ]
  },
  {
   "cell_type": "markdown",
   "id": "321f6df5-6623-402b-8ff2-8727c339249a",
   "metadata": {},
   "source": [
    "<h2>Extract Vaccine</h2>"
   ]
  },
  {
   "cell_type": "code",
   "execution_count": 74,
   "id": "0263a441-967c-45b2-ba99-263cda16e747",
   "metadata": {},
   "outputs": [
    {
     "name": "stderr",
     "output_type": "stream",
     "text": [
      "<>:1: SyntaxWarning: invalid escape sequence '\\?'\n",
      "<>:1: SyntaxWarning: invalid escape sequence '\\?'\n",
      "C:\\Users\\Prashant Singh\\AppData\\Local\\Temp\\ipykernel_13956\\1188486175.py:1: SyntaxWarning: invalid escape sequence '\\?'\n",
      "  pattern = \"Have you had the Hepatitis B vaccination\\?*\\n(Yes|No)\"\n"
     ]
    },
    {
     "data": {
      "text/plain": [
       "['No']"
      ]
     },
     "execution_count": 74,
     "metadata": {},
     "output_type": "execute_result"
    }
   ],
   "source": [
    "pattern = \"Have you had the Hepatitis B vaccination\\?*\\n(Yes|No)\"\n",
    "matches = re.findall(pattern, text,flags=re.DOTALL)\n",
    "matches"
   ]
  },
  {
   "cell_type": "markdown",
   "id": "3653ddc9-bb98-4f7c-82a9-684ecdedfbc9",
   "metadata": {},
   "source": [
    "<h2>Extract Medical Problems</h2>"
   ]
  },
  {
   "cell_type": "code",
   "execution_count": 88,
   "id": "a94d7243-7ee3-426d-bf0e-a63557749699",
   "metadata": {},
   "outputs": [
    {
     "name": "stderr",
     "output_type": "stream",
     "text": [
      "<>:1: SyntaxWarning: invalid escape sequence '\\('\n",
      "<>:1: SyntaxWarning: invalid escape sequence '\\('\n",
      "C:\\Users\\Prashant Singh\\AppData\\Local\\Temp\\ipykernel_13956\\795646819.py:1: SyntaxWarning: invalid escape sequence '\\('\n",
      "  pattern = \"List any Medical Problems \\(asthma, seizures, headaches\\}:(.*)\\n\\w\"\n"
     ]
    },
    {
     "data": {
      "text/plain": [
       "'Migraine\\n\\n{ -'"
      ]
     },
     "execution_count": 88,
     "metadata": {},
     "output_type": "execute_result"
    }
   ],
   "source": [
    "pattern = \"List any Medical Problems \\(asthma, seizures, headaches\\}:(.*)\\n\\w\"\n",
    "matches = re.findall(pattern, text,flags=re.DOTALL)\n",
    "matches[0].strip()\n"
   ]
  },
  {
   "cell_type": "code",
   "execution_count": 90,
   "id": "d10884df-772f-4b29-86ea-80266d64ca91",
   "metadata": {},
   "outputs": [
    {
     "data": {
      "text/plain": [
       "'Migraine'"
      ]
     },
     "execution_count": 90,
     "metadata": {},
     "output_type": "execute_result"
    }
   ],
   "source": [
    "match = matches[0].replace(\"\\n\\n{ -\",\"\").strip()\n",
    "match"
   ]
  }
 ],
 "metadata": {
  "kernelspec": {
   "display_name": "Python 3 (ipykernel)",
   "language": "python",
   "name": "python3"
  },
  "language_info": {
   "codemirror_mode": {
    "name": "ipython",
    "version": 3
   },
   "file_extension": ".py",
   "mimetype": "text/x-python",
   "name": "python",
   "nbconvert_exporter": "python",
   "pygments_lexer": "ipython3",
   "version": "3.12.4"
  }
 },
 "nbformat": 4,
 "nbformat_minor": 5
}
