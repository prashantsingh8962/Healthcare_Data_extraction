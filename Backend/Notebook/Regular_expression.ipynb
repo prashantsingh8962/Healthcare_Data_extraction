{
 "cells": [
  {
   "cell_type": "code",
   "execution_count": 3,
   "id": "7a914818-3a93-40ca-b5ff-4736ca163987",
   "metadata": {},
   "outputs": [],
   "source": [
    "import re"
   ]
  },
  {
   "cell_type": "markdown",
   "id": "c5eaf634-0458-40c9-9422-462e0bfe4aca",
   "metadata": {},
   "source": [
    "**Extract all numbers from text.**"
   ]
  },
  {
   "cell_type": "code",
   "execution_count": 2,
   "id": "e203bca8-a4e4-49cd-b605-cd03bc73f363",
   "metadata": {},
   "outputs": [
    {
     "name": "stderr",
     "output_type": "stream",
     "text": [
      "<>:3: SyntaxWarning: invalid escape sequence '\\d'\n",
      "<>:3: SyntaxWarning: invalid escape sequence '\\d'\n",
      "C:\\Users\\Prashant Singh\\AppData\\Local\\Temp\\ipykernel_8704\\2380274258.py:3: SyntaxWarning: invalid escape sequence '\\d'\n",
      "  pattern = \"\\d+\"\n"
     ]
    },
    {
     "data": {
      "text/plain": [
       "['8962781887', '120']"
      ]
     },
     "execution_count": 2,
     "metadata": {},
     "output_type": "execute_result"
    }
   ],
   "source": [
    "text = \"Patient's number is 8962781887. Bill amount is 120$\"\n",
    "\n",
    "pattern = \"\\d+\"\n",
    "match = re.findall(pattern,text)\n",
    "match"
   ]
  },
  {
   "cell_type": "markdown",
   "id": "54f0ccea-e434-42d1-b75d-295e14ccb03d",
   "metadata": {},
   "source": [
    "**Extract only phone number. phone number is always 10 digits.**"
   ]
  },
  {
   "cell_type": "code",
   "execution_count": 4,
   "id": "acf02e84-3bf0-402e-b35e-00cf88442b78",
   "metadata": {},
   "outputs": [
    {
     "name": "stderr",
     "output_type": "stream",
     "text": [
      "<>:3: SyntaxWarning: invalid escape sequence '\\d'\n",
      "<>:3: SyntaxWarning: invalid escape sequence '\\d'\n",
      "C:\\Users\\Prashant Singh\\AppData\\Local\\Temp\\ipykernel_8704\\5758021.py:3: SyntaxWarning: invalid escape sequence '\\d'\n",
      "  pattern = \"\\d{10}\"\n"
     ]
    },
    {
     "data": {
      "text/plain": [
       "['8962781887']"
      ]
     },
     "execution_count": 4,
     "metadata": {},
     "output_type": "execute_result"
    }
   ],
   "source": [
    "text = \"Patient's number is 8962781887. Bill amount is 120$\"\n",
    "\n",
    "pattern = \"\\d{10}\"\n",
    "match = re.findall(pattern,text)\n",
    "match"
   ]
  },
  {
   "cell_type": "markdown",
   "id": "4adccd8c-fa3b-4b7b-9b5d-98cdc8d528a5",
   "metadata": {},
   "source": [
    "**Extract phone numbers, which is either 10 continuous digits or follows (xxx)-xxx-xxxx.**"
   ]
  },
  {
   "cell_type": "code",
   "execution_count": 6,
   "id": "b8c00d50-9e6d-4c8a-9d35-e22cb1e6b01a",
   "metadata": {},
   "outputs": [
    {
     "name": "stderr",
     "output_type": "stream",
     "text": [
      "<>:3: SyntaxWarning: invalid escape sequence '\\('\n",
      "<>:3: SyntaxWarning: invalid escape sequence '\\('\n",
      "C:\\Users\\Prashant Singh\\AppData\\Local\\Temp\\ipykernel_8704\\1313966571.py:3: SyntaxWarning: invalid escape sequence '\\('\n",
      "  pattern = \"\\(\\d{3}\\)-\\d{3}-\\d{4}|\\d{10}\"\n"
     ]
    },
    {
     "data": {
      "text/plain": [
       "['(896)-278-1887', '8962786548']"
      ]
     },
     "execution_count": 6,
     "metadata": {},
     "output_type": "execute_result"
    }
   ],
   "source": [
    "#make logic in regrex 101\n",
    "text = \"Patient's number is (896)-278-1887 and 8962786548 Bill amount is 120$\"\n",
    "pattern = \"\\(\\d{3}\\)-\\d{3}-\\d{4}|\\d{10}\"\n",
    "match = re.findall(pattern,text)\n",
    "match"
   ]
  },
  {
   "cell_type": "markdown",
   "id": "7784e15c-9b63-48dd-a899-4546598e640d",
   "metadata": {},
   "source": [
    "**Extract phone number and bill amount separately.**"
   ]
  },
  {
   "cell_type": "code",
   "execution_count": 8,
   "id": "ef42ffe4-b6e7-46ee-a551-25b8336af7eb",
   "metadata": {},
   "outputs": [
    {
     "name": "stderr",
     "output_type": "stream",
     "text": [
      "<>:2: SyntaxWarning: invalid escape sequence '\\d'\n",
      "<>:2: SyntaxWarning: invalid escape sequence '\\d'\n",
      "C:\\Users\\Prashant Singh\\AppData\\Local\\Temp\\ipykernel_8704\\455656038.py:2: SyntaxWarning: invalid escape sequence '\\d'\n",
      "  pattern = \"(\\d{10})\\D+(\\d+)\\$\"\n"
     ]
    },
    {
     "data": {
      "text/plain": [
       "<re.Match object; span=(39, 69), match='8962786548 Bill amount is 120$'>"
      ]
     },
     "execution_count": 8,
     "metadata": {},
     "output_type": "execute_result"
    }
   ],
   "source": [
    "text = \"Patient's number is (896)-278-1887 and 8962786548 Bill amount is 120$\"\n",
    "pattern = \"(\\d{10})\\D+(\\d+)\\$\"\n",
    "match = re.search(pattern,text)\n",
    "match"
   ]
  },
  {
   "cell_type": "code",
   "execution_count": 9,
   "id": "631bf73c-fbdd-45c7-9d89-7ae2e5054be0",
   "metadata": {},
   "outputs": [
    {
     "data": {
      "text/plain": [
       "('8962786548', '120')"
      ]
     },
     "execution_count": 9,
     "metadata": {},
     "output_type": "execute_result"
    }
   ],
   "source": [
    "match.groups()"
   ]
  },
  {
   "cell_type": "code",
   "execution_count": 10,
   "id": "1b17480e-0359-4217-9f07-3587057ddb0e",
   "metadata": {},
   "outputs": [],
   "source": [
    "phone_number, bill_amount = match.groups()"
   ]
  },
  {
   "cell_type": "code",
   "execution_count": 11,
   "id": "8ccf4826-e39d-44e2-a0b7-43f5f6147da1",
   "metadata": {},
   "outputs": [
    {
     "data": {
      "text/plain": [
       "'8962786548'"
      ]
     },
     "execution_count": 11,
     "metadata": {},
     "output_type": "execute_result"
    }
   ],
   "source": [
    "phone_number"
   ]
  },
  {
   "cell_type": "code",
   "execution_count": 12,
   "id": "0676c9bd-9c3d-4b73-ab52-e0a11a9648a0",
   "metadata": {},
   "outputs": [
    {
     "data": {
      "text/plain": [
       "'120'"
      ]
     },
     "execution_count": 12,
     "metadata": {},
     "output_type": "execute_result"
    }
   ],
   "source": [
    "bill_amount"
   ]
  },
  {
   "cell_type": "code",
   "execution_count": 15,
   "id": "b54a8489-e3a6-45d9-ae80-e23219fe8063",
   "metadata": {},
   "outputs": [],
   "source": [
    "A='''Name: Marta Sharapova Date: 5/11/2022\n",
    "Address: 9 tennis court, new Russia, DC\n",
    "-—s-« Prednisone 20 mg\n",
    "Lialda 2.4 gram\n",
    "\n",
    "Directions:\n",
    "\n",
    "Prednisone, Taper 5 mig every 3 days,\n",
    "Finish in 2.5 weeks\n",
    "Lialda - take 2 pill everyday for 1 month\n",
    "\n",
    "Refill: 2 times\n",
    "'''"
   ]
  },
  {
   "cell_type": "markdown",
   "id": "b942aab4-c6dd-42a9-be8a-fb73295e0c52",
   "metadata": {},
   "source": [
    "**Extract all Twitter handles from the following text (i.e. your answer should be teslarati, dummy_tesla, and dummy_2_tesla). Twitter handle is the text that appears after https://twitter.com/ and is a single word. Also, it contains only alphanumeric characters i.e. A-Z a-z, o to 9, and underscore _\n",
    "\n",
    "text = \"Follow our leader Elon musk on Twitter \n",
    "here: <a href=\"https://twitter.com/elonmusk\" rel=\"nofollow\">https://twitter.com/elonmusk</a>, more information \n",
    "on Tesla's products can be found at <a href=\"https://www.tesla.com/\" rel=\"nofollow\">https://www.tesla.com/</a>. \n",
    "Also here are leading influencers for tesla-related news, \n",
    "<a href=\"https://twitter.com/teslarati\" rel=\"nofollow\">https://twitter.com/teslarati</a>\n",
    "<a href=\"https://twitter.com/dummy_tesla\" rel=\"nofollow\">https://twitter.com/dummy_tesla</a>\n",
    "<a href=\"https://twitter.com/dummy_2_tesla\" rel=\"nofollow\">https://twitter.com/dummy_2_tesla</a>\"**"
   ]
  },
  {
   "cell_type": "code",
   "execution_count": 31,
   "id": "06d62ebb-65de-48fd-af57-472fabb2ab8d",
   "metadata": {},
   "outputs": [
    {
     "name": "stdout",
     "output_type": "stream",
     "text": [
      "['elonmusk', 'elonmusk', 'teslarati', 'teslarati', 'dummy_tesla', 'dummy_tesla', 'dummy_2_tesla', 'dummy_2_tesla']\n"
     ]
    }
   ],
   "source": [
    "import re\n",
    "\n",
    "text = '''\n",
    "Follow our leader Elon musk on Twitter \n",
    "here: <a href=\"https://twitter.com/elonmusk\" rel=\"nofollow\">https://twitter.com/elonmusk</a>, more information \n",
    "on Tesla's products can be found at <a href=\"https://www.tesla.com/\" rel=\"nofollow\">https://www.tesla.com/</a>. \n",
    "Also here are leading influencers for tesla-related news, \n",
    "<a href=\"https://twitter.com/teslarati\" rel=\"nofollow\">https://twitter.com/teslarati</a>\n",
    "<a href=\"https://twitter.com/dummy_tesla\" rel=\"nofollow\">https://twitter.com/dummy_tesla</a>\n",
    "<a href=\"https://twitter.com/dummy_2_tesla\" rel=\"nofollow\">https://twitter.com/dummy_2_tesla</a>\n",
    "'''\n",
    "\n",
    "# Regular expression to match Twitter handles\n",
    "pattern = r'https://twitter.com/([a-zA-Z0-9_]+)'\n",
    "\n",
    "# Find all matches in the text\n",
    "handles = re.findall(pattern, text)\n",
    "\n",
    "print(handles)\n"
   ]
  },
  {
   "cell_type": "code",
   "execution_count": 32,
   "id": "7ce65807-fa7e-43f8-b1c9-ec3e25598441",
   "metadata": {},
   "outputs": [
    {
     "name": "stdout",
     "output_type": "stream",
     "text": [
      "['elonmusk', 'elonmusk', 'teslarati', 'teslarati', 'dummy_tesla', 'dummy_tesla', 'dummy_2_tesla', 'dummy_2_tesla']\n"
     ]
    }
   ],
   "source": [
    "pattern1 = r'>https://twitter.com/(.*)</a>'\n",
    "\n",
    "# Find all matches in the text\n",
    "handles1 = re.findall(pattern, text)\n",
    "\n",
    "print(handles1)"
   ]
  },
  {
   "cell_type": "code",
   "execution_count": null,
   "id": "15fbb666-9185-41b9-a26c-fcea58efa151",
   "metadata": {},
   "outputs": [],
   "source": []
  }
 ],
 "metadata": {
  "kernelspec": {
   "display_name": "Python 3 (ipykernel)",
   "language": "python",
   "name": "python3"
  },
  "language_info": {
   "codemirror_mode": {
    "name": "ipython",
    "version": 3
   },
   "file_extension": ".py",
   "mimetype": "text/x-python",
   "name": "python",
   "nbconvert_exporter": "python",
   "pygments_lexer": "ipython3",
   "version": "3.12.4"
  }
 },
 "nbformat": 4,
 "nbformat_minor": 5
}
