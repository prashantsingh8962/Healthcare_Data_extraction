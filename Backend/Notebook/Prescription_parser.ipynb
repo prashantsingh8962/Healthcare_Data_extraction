{
 "cells": [
  {
   "cell_type": "code",
   "execution_count": 3,
   "id": "8e5b6f24-7d74-442b-b23e-fdb7f7ff280f",
   "metadata": {},
   "outputs": [],
   "source": [
    "#prescription 1\n",
    "#this is function we using pdf into an image file\n",
    "from pdf2image import convert_from_path"
   ]
  },
  {
   "cell_type": "code",
   "execution_count": 6,
   "id": "a5c4eba7-5e53-408a-899e-e6136161d9a5",
   "metadata": {},
   "outputs": [],
   "source": [
    "pages = convert_from_path(\"C:\\\\Users\\\\Prashant Singh\\\\OneDrive\\\\Documents\\\\Codebasics\\\\Python\\\\source-code\\\\4_project_medical_data_extraction\\\\backend\\\\Notebook\\\\docs\\\\prescription\\\\pre_1.pdf\", poppler_path=\"C:\\\\Users\\\\Prashant Singh\\\\OneDrive\\\\Documents\\\\Codebasics\\\\Python\\\\source-code\\\\4_project_medical_data_extraction\\\\poppler-24.07.0\\\\Library\\\\bin\")"
   ]
  },
  {
   "cell_type": "code",
   "execution_count": 7,
   "id": "041bdb6c-cc16-4094-99ad-cd637d2461bd",
   "metadata": {},
   "outputs": [
    {
     "data": {
      "text/plain": [
       "[<PIL.PpmImagePlugin.PpmImageFile image mode=RGB size=1700x2200>]"
      ]
     },
     "execution_count": 7,
     "metadata": {},
     "output_type": "execute_result"
    }
   ],
   "source": [
    "#no of pages we as per the pdf\n",
    "pages"
   ]
  },
  {
   "cell_type": "code",
   "execution_count": 8,
   "id": "621a323f-91cc-489b-a677-7a06e4308992",
   "metadata": {},
   "outputs": [
    {
     "data": {
      "text/plain": [
       "1"
      ]
     },
     "execution_count": 8,
     "metadata": {},
     "output_type": "execute_result"
    }
   ],
   "source": [
    "#pillow is a popular module that allow you to do imaging processing\n",
    "len(pages)"
   ]
  },
  {
   "cell_type": "code",
   "execution_count": 10,
   "id": "60b2bff5-a51a-4022-a028-f468fbf96c5c",
   "metadata": {},
   "outputs": [],
   "source": [
    "#open image of prescription\n",
    "pages[0].show()"
   ]
  },
  {
   "cell_type": "code",
   "execution_count": 11,
   "id": "cc9986bc-d721-47b0-893f-24b13b0086aa",
   "metadata": {},
   "outputs": [],
   "source": [
    "import pytesseract"
   ]
  },
  {
   "cell_type": "code",
   "execution_count": 22,
   "id": "5d03d7f8-7460-4afe-9e48-2aa3f4216b1f",
   "metadata": {},
   "outputs": [
    {
     "name": "stdout",
     "output_type": "stream",
     "text": [
      "Dr John Smith, M.D\n",
      "2 Non-Important Street,\n",
      "New York, Phone (000)-111-2222\n",
      "\n",
      "Name: Maria Sharapova Date: 5/11/2022\n",
      "\n",
      "Address: 9 tennis court, new Russia, DC\n",
      "\n",
      "—moemenmannenneneneunmnnnnennieesisiyoinnitniahadaaanniihsnseneneneeeernnttnnneenrenen:\n",
      "\n",
      "Prednisone 20 mg\n",
      "Lialda 2.4 gram\n",
      "\n",
      "3 days,\n",
      "\n",
      "or 1 month\n",
      "\n"
     ]
    }
   ],
   "source": [
    "pytesseract.pytesseract.tesseract_cmd = \"C:\\\\Users\\\\Prashant Singh\\\\OneDrive\\\\Documents\\\\Codebasics\\\\Python\\\\source-code\\\\4_project_medical_data_extraction\\\\Tesseract\\\\tesseract.exe\"\n",
    "text = pytesseract.image_to_string(pages[0], lang=\"eng\")\n",
    "print(text)"
   ]
  },
  {
   "cell_type": "code",
   "execution_count": 35,
   "id": "41326b67-deb1-4c99-a79a-c31bf4129010",
   "metadata": {},
   "outputs": [],
   "source": [
    "import numpy as np\n",
    "import cv2\n",
    "from PIL import Image\n",
    "\n",
    "def preprocess_image(img):\n",
    "    # Convert the PIL image to a NumPy array\n",
    "    img_array = np.array(img)\n",
    "    \n",
    "    # Convert the image from RGB to grayscale\n",
    "    gray = cv2.cvtColor(img_array, cv2.COLOR_RGB2GRAY)\n",
    "    \n",
    "    # Resize the image\n",
    "    resized = cv2.resize(gray, None, fx=1.5, fy=1.5, interpolation=cv2.INTER_LINEAR)\n",
    "    \n",
    "    # Apply adaptive thresholding\n",
    "    processed_image = cv2.adaptiveThreshold(\n",
    "        resized, 255,\n",
    "        cv2.ADAPTIVE_THRESH_GAUSSIAN_C,\n",
    "        cv2.THRESH_BINARY,\n",
    "        61,\n",
    "        11\n",
    "    )\n",
    "    \n",
    "    return processed_image\n"
   ]
  },
  {
   "cell_type": "code",
   "execution_count": 36,
   "id": "59674c74-88d3-4d9b-9dcb-3fed98c2e3b3",
   "metadata": {},
   "outputs": [],
   "source": [
    "img = preprocess_image(pages[0])\n",
    "Image.fromarray(img).show()"
   ]
  },
  {
   "cell_type": "code",
   "execution_count": 66,
   "id": "a96e0590-7b74-42c0-9cdf-ba3807269bd0",
   "metadata": {},
   "outputs": [
    {
     "name": "stdout",
     "output_type": "stream",
     "text": [
      "Dr John Smith, M.D\n",
      "2 Non-Important Street,\n",
      "New York, Phone (000)-111-2222\n",
      "\n",
      "Name: Marta Sharapova Date: 5/11/2022\n",
      "Address: 9 tennis court, new Russia, DC\n",
      "-—s-« Prednisone 20 mg\n",
      "Lialda 2.4 gram\n",
      "\n",
      "Directions:\n",
      "\n",
      "Prednisone, Taper 5 mig every 3 days,\n",
      "Finish in 2.5 weeks\n",
      "Lialda - take 2 pill everyday for 1 month\n",
      "\n",
      "Refill: 2 times\n",
      "\n"
     ]
    }
   ],
   "source": [
    "pytesseract.pytesseract.tesseract_cmd = \"C:\\\\Users\\\\Prashant Singh\\\\OneDrive\\\\Documents\\\\Codebasics\\\\Python\\\\source-code\\\\4_project_medical_data_extraction\\\\Tesseract\\\\tesseract.exe\"\n",
    "text = pytesseract.image_to_string(img, lang=\"eng\")\n",
    "print(text)"
   ]
  },
  {
   "cell_type": "code",
   "execution_count": 67,
   "id": "b0cef3cb-7176-48ca-a399-d769af6152e4",
   "metadata": {},
   "outputs": [
    {
     "data": {
      "text/plain": [
       "'Marta Sharapova'"
      ]
     },
     "execution_count": 67,
     "metadata": {},
     "output_type": "execute_result"
    }
   ],
   "source": [
    "#Regular Expression or regress\n",
    "import re\n",
    "\n",
    "pattern = 'Name:(.*)Date'\n",
    "\n",
    "matches = re.findall(pattern, text)\n",
    "matches[0].strip()"
   ]
  },
  {
   "cell_type": "code",
   "execution_count": 69,
   "id": "8851cf34-3bc7-4154-981d-8803a332ea1f",
   "metadata": {},
   "outputs": [
    {
     "data": {
      "text/plain": [
       "'9 tennis court, new Russia, DC'"
      ]
     },
     "execution_count": 69,
     "metadata": {},
     "output_type": "execute_result"
    }
   ],
   "source": [
    "pattern=\"Address:(.*)\\n\"\n",
    "\n",
    "matches = re.findall(pattern, text)\n",
    "matches[0].strip() # used for trailing spaces"
   ]
  },
  {
   "cell_type": "code",
   "execution_count": 76,
   "id": "51c674d1-062e-47ae-8463-562c1b61d4ec",
   "metadata": {},
   "outputs": [
    {
     "data": {
      "text/plain": [
       "'Prednisone 20 mg\\nLialda 2.4 gram'"
      ]
     },
     "execution_count": 76,
     "metadata": {},
     "output_type": "execute_result"
    }
   ],
   "source": [
    "pattern=\"Address:[^P]*(.*)Directions\"\n",
    "\n",
    "matches = re.findall(pattern, text, flags=re.DOTALL)\n",
    "matches[0].strip()"
   ]
  },
  {
   "cell_type": "code",
   "execution_count": 77,
   "id": "5e22333f-663a-42e4-9d85-81fe49966be0",
   "metadata": {},
   "outputs": [
    {
     "data": {
      "text/plain": [
       "'Prednisone, Taper 5 mig every 3 days,\\nFinish in 2.5 weeks\\nLialda - take 2 pill everyday for 1 month'"
      ]
     },
     "execution_count": 77,
     "metadata": {},
     "output_type": "execute_result"
    }
   ],
   "source": [
    "pattern=\"Directions:(.*)Refill\"\n",
    "\n",
    "matches = re.findall(pattern, text, flags=re.DOTALL)\n",
    "matches[0].strip()"
   ]
  },
  {
   "cell_type": "code",
   "execution_count": 79,
   "id": "35dee26a-33fb-4742-88c1-8bb7c371819b",
   "metadata": {},
   "outputs": [
    {
     "data": {
      "text/plain": [
       "'2'"
      ]
     },
     "execution_count": 79,
     "metadata": {},
     "output_type": "execute_result"
    }
   ],
   "source": [
    "pattern=\"Refill:(.*)times\"\n",
    "\n",
    "matches = re.findall(pattern, text)\n",
    "matches[0].strip()"
   ]
  },
  {
   "cell_type": "code",
   "execution_count": null,
   "id": "3266baff-4887-4af2-ac55-9ab641caf350",
   "metadata": {},
   "outputs": [],
   "source": [
    "====================================================================================================="
   ]
  },
  {
   "cell_type": "code",
   "execution_count": 53,
   "id": "928b5e82-09eb-46be-84da-cd3eb0666223",
   "metadata": {},
   "outputs": [],
   "source": [
    "#prescription 2\n",
    "pages1 = convert_from_path(\"C:\\\\Users\\\\Prashant Singh\\\\OneDrive\\\\Documents\\\\Codebasics\\\\Python\\\\source-code\\\\4_project_medical_data_extraction\\\\backend\\\\Notebook\\\\docs\\\\prescription\\\\pre_2.pdf\", poppler_path=\"C:\\\\Users\\\\Prashant Singh\\\\OneDrive\\\\Documents\\\\Codebasics\\\\Python\\\\source-code\\\\4_project_medical_data_extraction\\\\poppler-24.07.0\\\\Library\\\\bin\")"
   ]
  },
  {
   "cell_type": "code",
   "execution_count": 54,
   "id": "ecdabc58-ddd0-4743-b9ad-2c57d7355a0b",
   "metadata": {},
   "outputs": [
    {
     "data": {
      "text/plain": [
       "[<PIL.PpmImagePlugin.PpmImageFile image mode=RGB size=1700x2200>]"
      ]
     },
     "execution_count": 54,
     "metadata": {},
     "output_type": "execute_result"
    }
   ],
   "source": [
    "pages1"
   ]
  },
  {
   "cell_type": "code",
   "execution_count": 55,
   "id": "d5648292-d43a-4af7-9068-0a15c038eb97",
   "metadata": {},
   "outputs": [],
   "source": [
    "pages1[0].show()"
   ]
  },
  {
   "cell_type": "code",
   "execution_count": 56,
   "id": "56275be2-2173-4ec3-bfd0-b1517d3f8e09",
   "metadata": {},
   "outputs": [
    {
     "name": "stdout",
     "output_type": "stream",
     "text": [
      "Refill: 3 times\n",
      "\n",
      "\n"
     ]
    }
   ],
   "source": [
    "pytesseract.pytesseract.tesseract_cmd = \"C:\\\\Users\\\\Prashant Singh\\\\OneDrive\\\\Documents\\\\Codebasics\\\\Python\\\\source-code\\\\4_project_medical_data_extraction\\\\Tesseract\\\\tesseract.exe\"\n",
    "text = pytesseract.image_to_string(pages1[0], lang=\"eng\")\n",
    "print(text)"
   ]
  },
  {
   "cell_type": "code",
   "execution_count": 57,
   "id": "88f7683a-a596-4b48-9f9e-ce8222fa4d81",
   "metadata": {},
   "outputs": [],
   "source": [
    "import numpy as np\n",
    "import cv2\n",
    "from PIL import Image\n",
    "\n",
    "def preprocess_image(img):\n",
    "    # Convert the PIL image to a NumPy array\n",
    "    img_array = np.array(img)\n",
    "    \n",
    "    # Convert the image from RGB to grayscale\n",
    "    gray = cv2.cvtColor(img_array, cv2.COLOR_RGB2GRAY)\n",
    "    \n",
    "    # Resize the image\n",
    "    resized = cv2.resize(gray, None, fx=1.5, fy=1.5, interpolation=cv2.INTER_LINEAR)\n",
    "    \n",
    "    # Apply adaptive thresholding\n",
    "    processed_image = cv2.adaptiveThreshold(\n",
    "        resized, 255,\n",
    "        cv2.ADAPTIVE_THRESH_GAUSSIAN_C,\n",
    "        cv2.THRESH_BINARY,\n",
    "        61,\n",
    "        11\n",
    "    )\n",
    "    \n",
    "    return processed_image\n"
   ]
  },
  {
   "cell_type": "code",
   "execution_count": 58,
   "id": "2ac0e0fb-b6b3-4ded-afc7-2bfc7f257eb9",
   "metadata": {},
   "outputs": [],
   "source": [
    "img1 = preprocess_image(pages1[0])\n",
    "Image.fromarray(img1).show()"
   ]
  },
  {
   "cell_type": "code",
   "execution_count": 63,
   "id": "81f1d9d8-697e-48f7-99db-8d2a5e069a8f",
   "metadata": {},
   "outputs": [
    {
     "name": "stdout",
     "output_type": "stream",
     "text": [
      "Dr John >mith, M.D\n",
      "\n",
      "2 Non-Important street,\n",
      "New York, Phone (900)-222-2222\n",
      "\n",
      "Name: Virat Kohli Date: 2/05/2022\n",
      "\n",
      "Address: 2 cricket blvd, New Delhi\n",
      "\n",
      "| Omeprazole 40 meg\n",
      "\n",
      "Directions: Use two tablets daily for three months\n",
      "\n",
      "Refill: 3 times\n",
      "\n"
     ]
    }
   ],
   "source": [
    "pytesseract.pytesseract.tesseract_cmd = \"C:\\\\Users\\\\Prashant Singh\\\\OneDrive\\\\Documents\\\\Codebasics\\\\Python\\\\source-code\\\\4_project_medical_data_extraction\\\\Tesseract\\\\tesseract.exe\"\n",
    "text = pytesseract.image_to_string(img1, lang=\"eng\")\n",
    "print(text)"
   ]
  },
  {
   "cell_type": "code",
   "execution_count": 61,
   "id": "c30c2e60-9dcc-4f94-8720-666bdf6c3023",
   "metadata": {},
   "outputs": [],
   "source": []
  },
  {
   "cell_type": "code",
   "execution_count": null,
   "id": "3b30e5d9-ad65-4e3d-b459-88dfb78e64a3",
   "metadata": {},
   "outputs": [],
   "source": []
  }
 ],
 "metadata": {
  "kernelspec": {
   "display_name": "Python 3 (ipykernel)",
   "language": "python",
   "name": "python3"
  },
  "language_info": {
   "codemirror_mode": {
    "name": "ipython",
    "version": 3
   },
   "file_extension": ".py",
   "mimetype": "text/x-python",
   "name": "python",
   "nbconvert_exporter": "python",
   "pygments_lexer": "ipython3",
   "version": "3.12.4"
  }
 },
 "nbformat": 4,
 "nbformat_minor": 5
}
